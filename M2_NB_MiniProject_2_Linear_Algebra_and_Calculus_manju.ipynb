{
  "nbformat": 4,
  "nbformat_minor": 0,
  "metadata": {
    "colab": {
      "provenance": [],
      "collapsed_sections": [
        "X0ghbS-s3Mel"
      ],
      "include_colab_link": true
    },
    "kernelspec": {
      "display_name": "Python 3",
      "language": "python",
      "name": "python3"
    },
    "language_info": {
      "codemirror_mode": {
        "name": "ipython",
        "version": 3
      },
      "file_extension": ".py",
      "mimetype": "text/x-python",
      "name": "python",
      "nbconvert_exporter": "python",
      "pygments_lexer": "ipython3",
      "version": "3.8.5"
    }
  },
  "cells": [
    {
      "cell_type": "markdown",
      "metadata": {
        "id": "view-in-github",
        "colab_type": "text"
      },
      "source": [
        "<a href=\"https://colab.research.google.com/github/tnmanju/fundamental-ngx/blob/master/M2_NB_MiniProject_2_Linear_Algebra_and_Calculus_manju.ipynb\" target=\"_parent\"><img src=\"https://colab.research.google.com/assets/colab-badge.svg\" alt=\"Open In Colab\"/></a>"
      ]
    },
    {
      "cell_type": "markdown",
      "metadata": {
        "id": "Vf7UdufgUVRm"
      },
      "source": [
        "# Advanced Certification Program in Computational Data Science\n",
        "## A program by IISc and TalentSprint\n",
        "### Mini Project Notebook: Linear Algebra and Calculus"
      ]
    },
    {
      "cell_type": "markdown",
      "metadata": {
        "id": "TnGEuHJusOup"
      },
      "source": [
        "## Problem Statement"
      ]
    },
    {
      "cell_type": "markdown",
      "metadata": {
        "id": "xlkm2qM2sQ-T"
      },
      "source": [
        " The task is to advise a petroleum company on how to meet the demands of their customers for motor oil, diesel oil and gasoline."
      ]
    },
    {
      "cell_type": "markdown",
      "metadata": {
        "id": "cs0B3ScgUVRv"
      },
      "source": [
        "## Learning Objectives"
      ]
    },
    {
      "cell_type": "markdown",
      "metadata": {
        "id": "Sq5piVQRUVRw"
      },
      "source": [
        "At the end of the experiment, you will be able to\n",
        "\n",
        "* create arrays and matrices in python\n",
        "* understand the concepts of linear equations\n",
        "* solve the system of linear equations"
      ]
    },
    {
      "cell_type": "markdown",
      "metadata": {
        "id": "IvKa0MVttqXf"
      },
      "source": [
        "### Data"
      ]
    },
    {
      "cell_type": "markdown",
      "metadata": {
        "id": "dRrGFyZOtsAj"
      },
      "source": [
        "From a barrel of crude oil, in one day, factory $A$ can produce\n",
        "* 20 gallons of motor oil,\n",
        "* 10 gallons of diesel oil, and\n",
        "* 5 gallons of gasoline\n",
        "\n",
        "Similarly, factory $B$ can produce\n",
        "* 4 gallons of motor oil,\n",
        "* 14 gallons of diesel oil, and\n",
        "* 5 gallons of gasoline\n",
        "\n",
        "while factory $C$ can produce\n",
        "* 4 gallons of motor oil,\n",
        "* 5 gallons of diesel oil, and\n",
        "* 12 gallons of gasoline\n",
        "\n",
        "There is also waste in the form of paraffin, among other things. Factory $A$ has 3 gallons of paraffin to dispose of per barrel of crude, factory $B$ 5 gallons, and factory $C$ 2 gallons."
      ]
    },
    {
      "cell_type": "markdown",
      "metadata": {
        "id": "UK_englE4HnA"
      },
      "source": [
        "**Note:** Your conclusion should include a discussion of the nature of the terms *unique*, *no solution*, *overdetermined* and *underdetermined* as they apply in the context of the oil plants."
      ]
    },
    {
      "cell_type": "markdown",
      "metadata": {
        "id": "operating-latter"
      },
      "source": [
        "## Grading = 10 Points"
      ]
    },
    {
      "cell_type": "code",
      "source": [
        "import numpy as np"
      ],
      "metadata": {
        "id": "55RSFdtOALDi"
      },
      "execution_count": 3,
      "outputs": []
    },
    {
      "cell_type": "markdown",
      "metadata": {
        "id": "zAitCztdraex"
      },
      "source": [
        "### Create an array\n",
        "\n",
        "Create an array of size 2x3 with arbitrary values."
      ]
    },
    {
      "cell_type": "code",
      "metadata": {
        "id": "owKFXLLzrqVb",
        "outputId": "195950c4-6e5f-4bca-d749-30366b8fd00f",
        "colab": {
          "base_uri": "https://localhost:8080/"
        }
      },
      "source": [
        "# YOUR CODE HERE\n",
        "\n",
        "a = np.array([[1,2,3],[4,5,6]])\n",
        "print(a)"
      ],
      "execution_count": 4,
      "outputs": [
        {
          "output_type": "stream",
          "name": "stdout",
          "text": [
            "[[1 2 3]\n",
            " [4 5 6]]\n"
          ]
        }
      ]
    },
    {
      "cell_type": "markdown",
      "metadata": {
        "id": "K_7EztnGvzDK"
      },
      "source": [
        "### Create the system of Linear Equations"
      ]
    },
    {
      "cell_type": "markdown",
      "metadata": {
        "id": "zL9M9kmrv_ZA"
      },
      "source": [
        "Suppose the current daily demand from distributors is 6600 gallons of motor oil, 5100 gallons of diesel oil and 3100 of gasoline.\n",
        "\n",
        "Set up the system of equations which describes the above situation. Please include the units as well."
      ]
    },
    {
      "cell_type": "markdown",
      "metadata": {
        "id": "nbOcii0EZpUI"
      },
      "source": [
        "Let the number of barrels used by factory $A$, $B$ and $C$ are $x$, $y$ and $z$ respectively.\n",
        "\n",
        "Then the system of linear equations will be\n",
        "\n",
        "$$Motor\\ oil:\\ \\ \\ 20x + 4y + 4z = 6600$$\n",
        "\n",
        "$$Diesel\\ oil:\\ \\ \\ 10x + 14y + 5z = 5100$$\n",
        "\n",
        "$$Gasoline:\\ \\ \\ 5x + 5y + 12z = 3100$$"
      ]
    },
    {
      "cell_type": "markdown",
      "source": [],
      "metadata": {
        "id": "6E_CNXrERnLQ"
      }
    },
    {
      "cell_type": "markdown",
      "metadata": {
        "id": "1qLF2LvG2I8Y"
      },
      "source": [
        "### Solve the system of Linear Equation (2 points)"
      ]
    },
    {
      "cell_type": "markdown",
      "metadata": {
        "id": "FzjOkaq21_8L"
      },
      "source": [
        "How many barrels of crude oil each plant should get in order to meet the demand as a group. Remember that we can only provide each plant with an integral number of barrels."
      ]
    },
    {
      "cell_type": "code",
      "metadata": {
        "id": "Plx-kStlcGOW",
        "colab": {
          "base_uri": "https://localhost:8080/"
        },
        "outputId": "80b13815-563a-492e-88fc-1a9b2a73e924"
      },
      "source": [
        "# YOUR CODE HERE\n",
        "\n",
        "# Create the augmented matrix\n",
        "A = np.array([[20, 4, 4], [10, 14, 5], [5, 5, 12]])\n",
        "b = np.array([6600, 5100, 3100])\n",
        "\n",
        "\n",
        "Ab = np.hstack((A, b.reshape(-1, 1)))\n",
        "print(A.shape)\n",
        "print(f\"A: {A}\")\n",
        "print(F\"b: {b}\")\n",
        "print(f\"Ab: {Ab}\")\n",
        "\n",
        "# Perform Gaussian elimination\n",
        "for i in range(A.shape[0]):\n",
        "    # Normalize the current row\n",
        "    print(f\"Ab[i]: {Ab[i]}\")\n",
        "    print(f\"Ab[i][i]: {Ab[i][i]}\")\n",
        "    Ab[i] = Ab[i] / Ab[i][i]\n",
        "\n",
        "    # Subtract multiples of the current row from the other rows\n",
        "    for j in range(A.shape[0]):\n",
        "        if i != j:\n",
        "            Ab[j] -= Ab[j][i] * Ab[i]\n",
        "\n",
        "print(f\"Ab: {Ab}\")\n",
        "# Extract the solution\n",
        "x = Ab[:, -1]\n",
        "\n",
        "# Print the solution\n",
        "print(\"The number of barrels of crude oil each plant should get is:\")\n",
        "print(x)\n",
        "\n",
        "# The number of barrels of crude oil each plant should get is:\n",
        "# [200. 150. 100.]"
      ],
      "execution_count": null,
      "outputs": [
        {
          "output_type": "stream",
          "name": "stdout",
          "text": [
            "(3, 3)\n",
            "A: [[20  4  4]\n",
            " [10 14  5]\n",
            " [ 5  5 12]]\n",
            "b: [6600 5100 3100]\n",
            "Ab: [[  20    4    4 6600]\n",
            " [  10   14    5 5100]\n",
            " [   5    5   12 3100]]\n",
            "Ab[i]: [  20    4    4 6600]\n",
            "Ab[i][i]: 20\n",
            "Ab[i]: [   0   14    5 1800]\n",
            "Ab[i][i]: 14\n",
            "Ab[i]: [  0   0  12 810]\n",
            "Ab[i][i]: 12\n",
            "Ab: [[  1   0   0 330]\n",
            " [  0   1   0 128]\n",
            " [  0   0   1  67]]\n",
            "The number of barrels of crude oil each plant should get is:\n",
            "[330 128  67]\n"
          ]
        }
      ]
    },
    {
      "cell_type": "markdown",
      "metadata": {
        "id": "nY-rFiKAbVl3"
      },
      "source": [
        "Suppose the total demand for all products **doubled**. What would the solution now be? How does it compare to the original solution? Why, mathematically, should this have been expected?"
      ]
    },
    {
      "cell_type": "code",
      "source": [
        "# Create the augmented matrix\n",
        "# Coefficients matrix A\n",
        "A = np.array([[20, 4, 4], [10, 14, 5], [5, 5, 12]])\n",
        "\n",
        "# Constants vector b\n",
        "b = np.array([6600, 5100, 3100])\n",
        "\n",
        "xyz = np.linalg.solve(A, b)\n",
        "print(\"x, y, z without rounding off: \" , xyz)\n",
        "\n",
        "int_xyz = np.round(xyz).astype(int)\n",
        "print(\"x, y,z after rounding off: \", int_xyz)\n",
        "\n",
        "print(f\"The number of barrels of crude oil plant A should get is: {int_xyz[0]}\")\n",
        "print(f\"The number of barrels of crude oil plant B should get is: {int_xyz[1]}\")\n",
        "print(f\"The number of barrels of crude oil plant C should get is: {int_xyz[2]}\")"
      ],
      "metadata": {
        "colab": {
          "base_uri": "https://localhost:8080/"
        },
        "id": "AcAIPMkvdybx",
        "outputId": "79072d06-141f-46c7-dba7-cc4e26c6341f"
      },
      "execution_count": 5,
      "outputs": [
        {
          "output_type": "stream",
          "name": "stdout",
          "text": [
            "x, y, z without rounding off:  [287.25 128.75  85.  ]\n",
            "x, y,z after rounding off:  [287 129  85]\n",
            "The number of barrels of crude oil plant A should get is: 287\n",
            "The number of barrels of crude oil plant B should get is: 129\n",
            "The number of barrels of crude oil plant C should get is: 85\n"
          ]
        }
      ]
    },
    {
      "cell_type": "code",
      "metadata": {
        "id": "OODSS2bFcjKV",
        "colab": {
          "base_uri": "https://localhost:8080/"
        },
        "outputId": "98a1f496-b061-4174-c28c-5bcc69f259e2"
      },
      "source": [
        "# YOUR CODE HERE\n",
        "# Create the augmented matrix\n",
        "A = np.array([[20, 4, 4], [10, 14, 5], [5, 5, 12]])\n",
        "b = np.array([6600, 5100, 3100])*2\n",
        "# b = np.array([13200, 10200, 6200])\n",
        "\n",
        "print(b)\n",
        "\n",
        "# xyz = np.linalg.solve(A, b)\n",
        "int_xyz = np.linalg.solve(A, b).round().astype(int)\n",
        "# int_xyz = np.round(xyz).astype(int)\n",
        "print(\"x, y,z after rounding off: \", int_xyz)\n",
        "\n",
        "print(\"To meet the doubled demand of the products:\")\n",
        "print(f\"The number of barrels of crude oil plant A should get is: {int_xyz[0]}\")\n",
        "print(f\"The number of barrels of crude oil plant B should get is: {int_xyz[1]}\")\n",
        "print(f\"The number of barrels of crude oil plant C should get is: {int_xyz[2]}\")\n"
      ],
      "execution_count": 6,
      "outputs": [
        {
          "output_type": "stream",
          "name": "stdout",
          "text": [
            "[13200 10200  6200]\n",
            "x, y,z after rounding off:  [574 258 170]\n",
            "To meet the doubled demand of the products:\n",
            "The number of barrels of crude oil plant A should get is: 574\n",
            "The number of barrels of crude oil plant B should get is: 258\n",
            "The number of barrels of crude oil plant C should get is: 170\n"
          ]
        }
      ]
    },
    {
      "cell_type": "markdown",
      "metadata": {
        "id": "p_1a-z0Gds6D"
      },
      "source": [
        "Suppose that the company acquires another group of distributors and that the daily demand of this group is 2000 gallons of motor oil, 4000 gallons of gasoline, and 4000 gallons of diesel oil. How would you set up production of just this supply? Are there any options (more than one way)?"
      ]
    },
    {
      "cell_type": "code",
      "source": [
        "A = np.array([[20, 4, 4], [10, 14, 5], [5, 5, 12]])\n",
        "b = np.array([2000, 4000, 4000])\n",
        "\n",
        "int_xyz = np.linalg.solve(A, b).round().astype(int)\n",
        "# int_xyz = np.round(xyz).astype(int)\n",
        "print(\"x, y,z after rounding off: \", int_xyz)\n",
        "\n",
        "print(\"To meet the new distributors demand:\")\n",
        "print(f\"The number of barrels of crude oil plant A should get is: {int_xyz[0]}\")\n",
        "print(f\"The number of barrels of crude oil plant B should get is: {int_xyz[1]}\")\n",
        "print(f\"The number of barrels of crude oil plant C should get is: {int_xyz[2]}\")"
      ],
      "metadata": {
        "colab": {
          "base_uri": "https://localhost:8080/"
        },
        "id": "fgQRVvP0i-fP",
        "outputId": "2d338517-7baf-4a0e-f415-6305a93ae994"
      },
      "execution_count": 7,
      "outputs": [
        {
          "output_type": "stream",
          "name": "stdout",
          "text": [
            "x, y,z after rounding off:  [ 12 188 250]\n",
            "To meet the new distributors demand:\n",
            "The number of barrels of crude oil plant A should get is: 12\n",
            "The number of barrels of crude oil plant B should get is: 188\n",
            "The number of barrels of crude oil plant C should get is: 250\n"
          ]
        }
      ]
    },
    {
      "cell_type": "code",
      "metadata": {
        "id": "gWaeKh6eQe2W",
        "colab": {
          "base_uri": "https://localhost:8080/"
        },
        "outputId": "a2be65ad-e655-45c0-f632-08fc41c62244"
      },
      "source": [
        "# YOUR CODE HERE\n",
        "A = np.array([[20, 4, 4], [10, 14, 5], [5, 5, 12]])\n",
        "b = np.array([6600+2000, 5100+4000, 3100+4000])\n",
        "\n",
        "int_xyz = np.linalg.solve(A, b).round().astype(int)\n",
        "# int_xyz = np.round(xyz).astype(int)\n",
        "print(\"x, y,z after rounding off: \", int_xyz)\n",
        "\n",
        "print(\"To meet the total distributors demand:\")\n",
        "print(f\"The number of barrels of crude oil plant A should get is: {int_xyz[0]}\")\n",
        "print(f\"The number of barrels of crude oil plant B should get is: {int_xyz[1]}\")\n",
        "print(f\"The number of barrels of crude oil plant C should get is: {int_xyz[2]}\")\n"
      ],
      "execution_count": 8,
      "outputs": [
        {
          "output_type": "stream",
          "name": "stdout",
          "text": [
            "x, y,z after rounding off:  [300 316 335]\n",
            "To meet the total distributors demand:\n",
            "The number of barrels of crude oil plant A should get is: 300\n",
            "The number of barrels of crude oil plant B should get is: 316\n",
            "The number of barrels of crude oil plant C should get is: 335\n"
          ]
        }
      ]
    },
    {
      "cell_type": "markdown",
      "metadata": {
        "id": "H4sayZf1etbN"
      },
      "source": [
        "Next, calculate the needs of each factory (in barrels of crude, as usual) to meet the total demand of both groups of distributors. When you have done this, compare your answer to results already obtained. What mathematical conclusion can you draw?"
      ]
    },
    {
      "cell_type": "markdown",
      "source": [
        "Percentage increase in barrels of crude oil for A, B and C are as follows:\n",
        "A = 4.52 %\n",
        "B = 144.96 %\n",
        "C = 294.11%\n",
        "\n",
        "Diesel and Gasoline demand has sharply increased...almost doubled. Based on the original capacity of Diesel and Gasoline production of B and C, there is sharp increase required in supply of crude oil to B and C."
      ],
      "metadata": {
        "id": "BXV21l5nmJfU"
      }
    },
    {
      "cell_type": "code",
      "metadata": {
        "id": "Hjm5kcawewgT"
      },
      "source": [
        "# YOUR CODE HERE\n",
        "A = 4.52 %\n",
        "B = 144.96 %\n",
        "C = 294.11%\n"
      ],
      "execution_count": null,
      "outputs": []
    },
    {
      "cell_type": "markdown",
      "metadata": {
        "id": "ov7RWVpSpzhw"
      },
      "source": [
        "### Sensitivity and Robustness (1 point)"
      ]
    },
    {
      "cell_type": "markdown",
      "metadata": {
        "id": "G1MVw0x_fQMC"
      },
      "source": [
        "In real life applications, constants are rarely ever exactly equal to their stated value; certain amounts of uncertainty are always present. This is part of the reason for the science of statistics. In the above model, the daily productions for the plants would be averages over a period of time. Explore what effect small changes in the parameters have on the output.\n",
        "\n",
        "To do this, pick any 3 coefficients, one at a time, and increase or decrease them by 3%. For each case , note what effect this has on the solution, as a percentage change. Can you draw any overall conclusion?"
      ]
    },
    {
      "cell_type": "code",
      "metadata": {
        "id": "ObBZDKvYfqie",
        "colab": {
          "base_uri": "https://localhost:8080/"
        },
        "outputId": "32cefa05-999c-4882-f618-0ae3c1df000a"
      },
      "source": [
        "# YOUR CODE HERE\n",
        "#increase by 3%, consider increase in motoroil co-efficient\n",
        "A = np.array([[20+20*0.03, 4, 4], [10+10*0.03, 14, 5], [5+5*0.03, 5, 12]])\n",
        "b = np.array([6600, 5100, 3100])\n",
        "print(A)\n",
        "int_xyz = np.linalg.solve(A, b).round().astype(int)\n",
        "# int_xyz = np.round(xyz).astype(int)\n",
        "print(\"x, y,z after rounding off: \", int_xyz)\n",
        "\n",
        "print(\"Considering 3% increase in x co-efficient(Plant A):\")\n",
        "print(f\"The number of barrels of crude oil plant A should get is: {int_xyz[0]}\")\n",
        "print(f\"The number of barrels of crude oil plant B should get is: {int_xyz[1]}\")\n",
        "print(f\"The number of barrels of crude oil plant C should get is: {int_xyz[2]}\")\n"
      ],
      "execution_count": 10,
      "outputs": [
        {
          "output_type": "stream",
          "name": "stdout",
          "text": [
            "[[20.6   4.    4.  ]\n",
            " [10.3  14.    5.  ]\n",
            " [ 5.15  5.   12.  ]]\n",
            "x, y,z after rounding off:  [279 129  85]\n",
            "Considering 3% increase in x co-efficient(Plant A):\n",
            "The number of barrels of crude oil plant A should get is: 279\n",
            "The number of barrels of crude oil plant B should get is: 129\n",
            "The number of barrels of crude oil plant C should get is: 85\n"
          ]
        }
      ]
    },
    {
      "cell_type": "markdown",
      "source": [
        "𝑀𝑜𝑡𝑜𝑟 𝑜𝑖𝑙: 20𝑥+4𝑦+4𝑧=6600\n",
        "\n",
        "𝐷𝑖𝑒𝑠𝑒𝑙 𝑜𝑖𝑙: 10𝑥+14𝑦+5𝑧=5100\n",
        "\n",
        "𝐺𝑎𝑠𝑜𝑙𝑖𝑛𝑒: 5𝑥+5𝑦+12𝑧=3100"
      ],
      "metadata": {
        "id": "etXorwUBsKhx"
      }
    },
    {
      "cell_type": "markdown",
      "source": [
        "with 3% increase in motor oil co-efficient, there is slight **DECREASE** in crude oil consumption at A, but other two plants crude oil consumption is unchanged. This makes sense, because 1) facility A is produces more motor oil than B and C. 2) Its only facility A which has INCREASED its production efficiency of motor oil by 3%."
      ],
      "metadata": {
        "id": "pDJU6_QdqTso"
      }
    },
    {
      "cell_type": "code",
      "source": [
        "# Decrease by3%,consider decrease in motoroil co-efficient\n",
        "A = np.array([[20-20*0.03, 4, 4], [10-10*0.03, 14, 5], [5-5*0.03, 5, 12]])\n",
        "b = np.array([6600, 5100, 3100])\n",
        "print(A)\n",
        "int_xyz = np.linalg.solve(A, b).round().astype(int)\n",
        "# int_xyz = np.round(xyz).astype(int)\n",
        "print(\"x, y,z after rounding off: \", int_xyz)\n",
        "\n",
        "print(\"Considering 3% decrease in x co-efficient(Plant A):\")\n",
        "print(f\"The number of barrels of crude oil plant A should get is: {int_xyz[0]}\")\n",
        "print(f\"The number of barrels of crude oil plant B should get is: {int_xyz[1]}\")\n",
        "print(f\"The number of barrels of crude oil plant C should get is: {int_xyz[2]}\")"
      ],
      "metadata": {
        "colab": {
          "base_uri": "https://localhost:8080/"
        },
        "id": "WfJ6N6UYNHr_",
        "outputId": "5e6f12e0-f604-42f5-e30e-df5636774aa6"
      },
      "execution_count": 12,
      "outputs": [
        {
          "output_type": "stream",
          "name": "stdout",
          "text": [
            "[[19.4   4.    4.  ]\n",
            " [ 9.7  14.    5.  ]\n",
            " [ 4.85  5.   12.  ]]\n",
            "x, y,z after rounding off:  [296 129  85]\n",
            "Considering 3% decrease in x co-efficient(Plant A):\n",
            "The number of barrels of crude oil plant A should get is: 296\n",
            "The number of barrels of crude oil plant B should get is: 129\n",
            "The number of barrels of crude oil plant C should get is: 85\n"
          ]
        }
      ]
    },
    {
      "cell_type": "markdown",
      "source": [
        "with 3% decrease in motor oil co-efficient, there is slight **INCREASE** in crude oil consumption at A, but other two plants crude oil consumption is unchanged. This makes sense, because 1) facility A is produces more motor oil than B and C. 2) Its only facility A which has DECREASED its production efficiency of motor oil by 3%."
      ],
      "metadata": {
        "id": "EmWXWQsTrlkw"
      }
    },
    {
      "cell_type": "markdown",
      "source": [
        "𝑀𝑜𝑡𝑜𝑟 𝑜𝑖𝑙:   20𝑥+4𝑦+4𝑧=6600\n",
        "\n",
        "𝐷𝑖𝑒𝑠𝑒𝑙 𝑜𝑖𝑙:   10𝑥+14𝑦+5𝑧=5100\n",
        "\n",
        "𝐺𝑎𝑠𝑜𝑙𝑖𝑛𝑒:   5𝑥+5𝑦+12𝑧=3100"
      ],
      "metadata": {
        "id": "vbXnZjV28Qm0"
      }
    },
    {
      "cell_type": "code",
      "source": [
        "#increase by 3%, consider increase in diesel co-efficient\n",
        "A = np.array([[20, 4+4*.03, 4], [10, 14+14*.03, 5], [5, 5+5*.03, 12]])\n",
        "b = np.array([6600, 5100, 3100])\n",
        "print(A)\n",
        "int_xyz = np.linalg.solve(A, b).round().astype(int)\n",
        "# int_xyz = np.round(xyz).astype(int)\n",
        "print(\"x, y,z after rounding off: \", int_xyz)\n",
        "\n",
        "print(\"Considering 3% increase in y co-efficient(diesel):\")\n",
        "print(f\"The number of barrels of crude oil plant A should get is: {int_xyz[0]}\")\n",
        "print(f\"The number of barrels of crude oil plant B should get is: {int_xyz[1]}\")\n",
        "print(f\"The number of barrels of crude oil plant C should get is: {int_xyz[2]}\")\n"
      ],
      "metadata": {
        "colab": {
          "base_uri": "https://localhost:8080/"
        },
        "id": "QvUYcCXZtQw9",
        "outputId": "b88d6d57-1a7d-4075-87e1-95bb2fe41d4c"
      },
      "execution_count": 14,
      "outputs": [
        {
          "output_type": "stream",
          "name": "stdout",
          "text": [
            "[[20.    4.12  4.  ]\n",
            " [10.   14.42  5.  ]\n",
            " [ 5.    5.15 12.  ]]\n",
            "x, y,z after rounding off:  [287 125  85]\n",
            "Considering 3% increase in y co-efficient(diesel):\n",
            "The number of barrels of crude oil plant A should get is: 287\n",
            "The number of barrels of crude oil plant B should get is: 125\n",
            "The number of barrels of crude oil plant C should get is: 85\n"
          ]
        }
      ]
    },
    {
      "cell_type": "markdown",
      "source": [
        "Similar observation found.\n",
        "Due to 3% increase in diesel production efficiency, there is **slight DECREASE** in crude oil required for facility B, which is major diesel producing facility."
      ],
      "metadata": {
        "id": "nHCtajXmDaY4"
      }
    },
    {
      "cell_type": "code",
      "source": [
        "#increase by 3%, consider decrease in diesel co-efficient\n",
        "A = np.array([[20, 4-4*.03, 4], [10, 14-14*.03, 5], [5, 5-5*.03, 12]])\n",
        "b = np.array([6600, 5100, 3100])\n",
        "print(A)\n",
        "int_xyz = np.linalg.solve(A, b).round().astype(int)\n",
        "# int_xyz = np.round(xyz).astype(int)\n",
        "print(\"x, y after rounding off: \", int_xyz)\n",
        "\n",
        "print(\"Considering 3% decrease in y co-efficient(diesel):\")\n",
        "print(f\"The number of barrels of crude oil plant A should get is: {int_xyz[0]}\")\n",
        "print(f\"The number of barrels of crude oil plant B should get is: {int_xyz[1]}\")\n",
        "print(f\"The number of barrels of crude oil plant C should get is: {int_xyz[2]}\")"
      ],
      "metadata": {
        "colab": {
          "base_uri": "https://localhost:8080/"
        },
        "id": "50fxI3N_EKez",
        "outputId": "83d72fd8-f25d-437c-dbff-b33234b0e6d4"
      },
      "execution_count": 34,
      "outputs": [
        {
          "output_type": "stream",
          "name": "stdout",
          "text": [
            "[[20.    3.88  4.  ]\n",
            " [10.   13.58  5.  ]\n",
            " [ 5.    4.85 12.  ]]\n",
            "x, y after rounding off:  [287 133  85]\n",
            "Considering 3% decrease in y co-efficient(diesel):\n",
            "The number of barrels of crude oil plant A should get is: 287\n",
            "The number of barrels of crude oil plant B should get is: 133\n",
            "The number of barrels of crude oil plant C should get is: 85\n"
          ]
        }
      ]
    },
    {
      "cell_type": "markdown",
      "source": [
        "Similar observation found. Due to 3% decrease in diesel production efficiency, there is **slight INCREASE** in crude oil required for facility B, which is major diesel producing facility."
      ],
      "metadata": {
        "id": "8Ejenq3oEcGs"
      }
    },
    {
      "cell_type": "code",
      "source": [],
      "metadata": {
        "id": "6R_-5V_WE27c"
      },
      "execution_count": null,
      "outputs": []
    },
    {
      "cell_type": "markdown",
      "metadata": {
        "id": "JOj5wcxQpzhx"
      },
      "source": [
        "### A Plant Off-Line (1 point)"
      ]
    },
    {
      "cell_type": "code",
      "source": [
        "from google.colab import drive\n",
        "drive.mount('/content/drive')"
      ],
      "metadata": {
        "id": "BB87yGPnBRr3"
      },
      "execution_count": null,
      "outputs": []
    },
    {
      "cell_type": "markdown",
      "metadata": {
        "id": "Dbm0HcJ7frNz"
      },
      "source": [
        "Suppose factory $C$ is shut down by the EPA (Environmental Protection Agency) temporarily for excessive emissions into the atmosphere. If your demand is as it was originally (6600, 5100, 3100), what would you now say about the companies ability to meet it? What do you recommend they schedule for production now?"
      ]
    },
    {
      "cell_type": "markdown",
      "source": [
        "**Option1**"
      ],
      "metadata": {
        "id": "ImFtckkgKySt"
      }
    },
    {
      "cell_type": "code",
      "metadata": {
        "id": "gpbtzvrVAST3",
        "colab": {
          "base_uri": "https://localhost:8080/"
        },
        "outputId": "e1903f8e-e9bf-4fed-be57-4abc7872a9c4"
      },
      "source": [
        "# YOUR CODE HERE\n",
        "#factory C is shoutdown. Remove its co-efficients\n",
        "# We now have 20x+4y = 6600 10x+14y = 5100 5x+5y = 3100\n",
        "#python program to solve: 20x+4y = 6600 10x+14y = 5100 5x+5y = 3100\n",
        "\n",
        "# Create the augmented matrix\n",
        "A = np.array([[20, 4], [10, 14]])\n",
        "# A = np.array([[20, 4, 4], [10, 14, 5], [0, 0, 0]])\n",
        "b = np.array([6600, 5100])\n",
        "\n",
        "int_xyz = np.linalg.solve(A, b).round().astype(int)\n",
        "# int_xyz = np.round(xyz).astype(int)\n",
        "print(\"x, y after rounding off: \", int_xyz)\n",
        "\n",
        "print(f\"The number of barrels of crude oil plant A should get is: {int_xyz[0]}\")\n",
        "print(f\"The number of barrels of crude oil plant B should get is: {int_xyz[1]}\")\n",
        "\n",
        "motoroil_output = 20*int_xyz[0] + 4*int_xyz[1]\n",
        "dieseloil_output = 10*int_xyz[0] + 14*int_xyz[1]\n",
        "gasoline_output = 5*int_xyz[0] + 5*int_xyz[1]\n",
        "print(f\"Motor oil production(in gallons) is: {motoroil_output}\")\n",
        "print(f\"Diesel oil production(in gallons) is: {dieseloil_output}\")\n",
        "print(f\"Gasoline production(in gallons) is: {gasoline_output}\")"
      ],
      "execution_count": 33,
      "outputs": [
        {
          "output_type": "stream",
          "name": "stdout",
          "text": [
            "x, y after rounding off:  [300 150]\n",
            "The number of barrels of crude oil plant A should get is: 300\n",
            "The number of barrels of crude oil plant B should get is: 150\n",
            "Motor oil production(in gallons) is: 6600\n",
            "Diesel oil production(in gallons) is: 5100\n",
            "Gasoline production(in gallons) is: 2250\n"
          ]
        }
      ]
    },
    {
      "cell_type": "markdown",
      "source": [
        "**Conclusion:** Motor oil and Diesel oil production is met completely.\n",
        "Gasoline demand(3100 gallons) is met by 72.58%."
      ],
      "metadata": {
        "id": "VgDSaIfPJgVj"
      }
    },
    {
      "cell_type": "markdown",
      "source": [
        "**Option2**"
      ],
      "metadata": {
        "id": "Js4g7_H3K3Fv"
      }
    },
    {
      "cell_type": "code",
      "source": [
        "#factory C is shoutdown. Remove its co-efficients\n",
        "# We now have 20x+4y = 6600 10x+14y = 5100 5x+5y = 3100\n",
        "#python program to solve: 20x+4y = 6600 10x+14y = 5100 5x+5y = 3100\n",
        "\n",
        "# Create the augmented matrix\n",
        "A = np.array([[20, 4], [5, 5]])\n",
        "# A = np.array([[20, 4, 4], [10, 14, 5], [0, 0, 0]])\n",
        "b = np.array([6600, 3100])\n",
        "\n",
        "int_xyz = np.linalg.solve(A, b).round().astype(int)\n",
        "# int_xyz = np.round(xyz).astype(int)\n",
        "print(\"x, y after rounding off: \", int_xyz)\n",
        "\n",
        "\n",
        "print(f\"The number of barrels of crude oil plant A should get is: {int_xyz[0]}\")\n",
        "print(f\"The number of barrels of crude oil plant B should get is: {int_xyz[1]}\")\n",
        "\n",
        "motoroil_output = 20*int_xyz[0] + 4*int_xyz[1]\n",
        "dieseloil_output = 10*int_xyz[0] + 14*int_xyz[1]\n",
        "gasoline_output = 5*int_xyz[0] + 5*int_xyz[1]\n",
        "print(f\"Motor oil production(in gallons) is: {motoroil_output}\")\n",
        "print(f\"Diesel oil production(in gallons) is: {dieseloil_output}\")\n",
        "print(f\"Gasoline production(in gallons) is: {gasoline_output}\")"
      ],
      "metadata": {
        "colab": {
          "base_uri": "https://localhost:8080/"
        },
        "id": "-o7C841FKwC4",
        "outputId": "d120ed12-ef82-4812-860d-0227b8d21ea6"
      },
      "execution_count": 32,
      "outputs": [
        {
          "output_type": "stream",
          "name": "stdout",
          "text": [
            "x, y after rounding off:  [258 362]\n",
            "The number of barrels of crude oil plant A should get is: 258\n",
            "The number of barrels of crude oil plant B should get is: 362\n",
            "Motor oil production(in gallons) is: 6608\n",
            "Diesel oil production(in gallons) is: 7648\n",
            "Gasoline production(in gallons) is: 3100\n"
          ]
        }
      ]
    },
    {
      "cell_type": "markdown",
      "source": [
        "**Conclusion**:\n",
        "Motor oil demand is slightly over shot(by 0.12%).\n",
        "Diesel and Diesel oil production is over shot by nearly 50%).\n",
        "Gasoline demand 100% met.\n",
        "Overall, Diesel oil production is shot up by 50% and this has its own storage and other costs."
      ],
      "metadata": {
        "id": "0jlKgnOGMk4c"
      }
    },
    {
      "cell_type": "markdown",
      "source": [
        "Option3"
      ],
      "metadata": {
        "id": "1nePOSSHN3uA"
      }
    },
    {
      "cell_type": "code",
      "source": [
        "#factory C is shoutdown. Remove its co-efficients\n",
        "# We now have 20x+4y = 6600 10x+14y = 5100 5x+5y = 3100\n",
        "#python program to solve: 20x+4y = 6600 10x+14y = 5100 5x+5y = 3100\n",
        "\n",
        "# Create the augmented matrix\n",
        "A = np.array([[10, 14], [5, 5]])\n",
        "# A = np.array([[20, 4, 4], [10, 14, 5], [0, 0, 0]])\n",
        "b = np.array([5100, 3100])\n",
        "\n",
        "int_xyz = np.linalg.solve(A, b).round().astype(int)\n",
        "# int_xyz = np.round(xyz).astype(int)\n",
        "print(\"x, y,z after rounding off: \", int_xyz)\n",
        "\n",
        "\n",
        "print(f\"The number of barrels of crude oil plant A should get is: {int_xyz[0]}\")\n",
        "print(f\"The number of barrels of crude oil plant B should get is: {int_xyz[1]}\")\n",
        "\n",
        "motoroil_output = 20*int_xyz[0] + 4*int_xyz[1]\n",
        "dieseloil_output = 10*int_xyz[0] + 14*int_xyz[1]\n",
        "gasoline_output = 5*int_xyz[0] + 5*int_xyz[1]\n",
        "print(f\"Motor oil production(in gallons) is: {motoroil_output}\")\n",
        "print(f\"Diesel oil production(in gallons) is: {dieseloil_output}\")\n",
        "print(f\"Gasoline production(in gallons) is: {gasoline_output}\")"
      ],
      "metadata": {
        "colab": {
          "base_uri": "https://localhost:8080/"
        },
        "id": "enGAF1fxN9t0",
        "outputId": "56dd8561-b499-45e3-ad09-2f7b214ebeb4"
      },
      "execution_count": 28,
      "outputs": [
        {
          "output_type": "stream",
          "name": "stdout",
          "text": [
            "x, y,z after rounding off:  [ 895 -275]\n",
            "The number of barrels of crude oil plant A should get is: 895\n",
            "The number of barrels of crude oil plant B should get is: -275\n",
            "Motor oil production(in gallons) is: 16800\n",
            "Diesel oil production(in gallons) is: 5100\n",
            "Gasoline production(in gallons) is: 3100\n"
          ]
        }
      ]
    },
    {
      "cell_type": "markdown",
      "source": [
        "From a barrel of crude oil, in one day, factory  𝐴  can produce\n",
        "\n",
        "20 gallons of motor oil,\n",
        "10 gallons of diesel oil, and\n",
        "5 gallons of gasoline\n",
        "Similarly, factory  𝐵  can produce\n",
        "\n",
        "4 gallons of motor oil,\n",
        "14 gallons of diesel oil, and\n",
        "5 gallons of gasoline\n",
        "while factory  𝐶  can produce\n",
        "\n",
        "4 gallons of motor oil,\n",
        "5 gallons of diesel oil, and\n",
        "12 gallons of gasoline\n",
        "\n",
        "\n",
        "Suppose the current daily demand from distributors is 6600 gallons of motor oil, 5100 gallons of diesel oil and 3100 of gasoline.\n",
        "\n",
        "Set up the system of equations which describes the above situation."
      ],
      "metadata": {
        "id": "Pv-FmDWpYycT"
      }
    },
    {
      "cell_type": "markdown",
      "metadata": {
        "id": "tZpzEVmEpzhx"
      },
      "source": [
        "### Buying another plant"
      ]
    },
    {
      "cell_type": "markdown",
      "metadata": {
        "id": "X0ghbS-s3Mel"
      },
      "source": [
        "####(Note the following given information. You will see questions in continuation to this, in the subsequent sections)\n",
        "\n",
        "This situation has caused enough concern that the CEO is considering buying another plant, identical to the third, and using it permanently. Assuming that all 4 plants are on line, what production do you recommend to meet the current demand (5000, 8500, 10000)? In general, what can you say about any increased flexibility that the 4th plant might provide?"
      ]
    },
    {
      "cell_type": "markdown",
      "metadata": {
        "id": "IcbiTq8zpzhx"
      },
      "source": [
        "Let the number of barrels used by factory $A$, $B$, $C$ and $D$ are $x$, $y$, $z$ and $w$ respectively.\n",
        "\n",
        "Then the system of linear equations will be\n",
        "\n",
        "$$20x + 4y + 4z + 4w = 5000$$\n",
        "\n",
        "$$10x + 14y + 5z + 5w = 8500$$\n",
        "\n",
        "$$5x + 5y + 12z + 12w = 10000$$\n",
        "\n",
        "The above system of linear equation has fewer equations than variables, hence it is *underdetermined* and cannot have a unique solution. In this case, there are either infinitely many solutions or no exact solution. We can solve it by keeping $w$ as constant and using [rref](http://linear.ups.edu/html/section-RREF.html) form to solve the system of linear equation.\n",
        "\n",
        "To know about rref implementation in python refer [here](https://docs.sympy.org/latest/tutorial/matrices.html#rref)."
      ]
    },
    {
      "cell_type": "code",
      "metadata": {
        "id": "DnCYG65tB8gp",
        "colab": {
          "base_uri": "https://localhost:8080/"
        },
        "outputId": "b1f8e821-6718-4a0f-f7b8-95cc5a56576b"
      },
      "source": [
        "import sympy as sy\n",
        "\n",
        "# create symbol 'w'\n",
        "w = sy.Symbol(\"w\")\n",
        "A_aug = sy.Matrix([[20, 4, 4, 5000-4*w],\n",
        "                   [10, 14, 5, 8500-5*w],\n",
        "                   [5, 5, 12, 10000-12*w]])\n",
        "# show rref form\n",
        "A_aug.rref()"
      ],
      "execution_count": 29,
      "outputs": [
        {
          "output_type": "execute_result",
          "data": {
            "text/plain": [
              "(Matrix([\n",
              " [1, 0, 0,   195/4],\n",
              " [0, 1, 0,  1325/4],\n",
              " [0, 0, 1, 675 - w]]),\n",
              " (0, 1, 2))"
            ]
          },
          "metadata": {},
          "execution_count": 29
        }
      ]
    },
    {
      "cell_type": "markdown",
      "metadata": {
        "id": "1lcEL3n5pzhz"
      },
      "source": [
        "From the above result, it can be seen that 4th plant will share the number of barrels required by the 3rd plant only, while the requirement of 1st and 2nd plant will remain unaffected."
      ]
    },
    {
      "cell_type": "markdown",
      "metadata": {
        "id": "yE9hCfAMpzhz"
      },
      "source": [
        "### Calculate the amount of Paraffin supplied (1 point)"
      ]
    },
    {
      "cell_type": "markdown",
      "metadata": {
        "id": "u9HSGUeZquXD"
      },
      "source": [
        "The company has just found a candle company that will buy its paraffin. Under the current conditions (i.e, after buying another plant) for demand (5000, 8500, 10000), how much can be supplied to them per day?"
      ]
    },
    {
      "cell_type": "markdown",
      "metadata": {
        "id": "ilEui1GHA3Oh"
      },
      "source": [
        "According to the problem statement, factory $A$ has 3 gallons of paraffin to dispose of per barrel of crude oil, factory $B$ 5 gallons, and factory $C$ 2 gallons."
      ]
    },
    {
      "cell_type": "code",
      "metadata": {
        "id": "gJnUalG2_r0i"
      },
      "source": [
        "from os import pardir\n",
        "# YOUR CODE HERE\n",
        "# A = 3 gallons of parrafin\n",
        "# B = 5 gallons of parrafin\n",
        "# C = 2 gallons of parrafin\n",
        "\n",
        "\n"
      ],
      "execution_count": 31,
      "outputs": []
    },
    {
      "cell_type": "markdown",
      "metadata": {
        "id": "sSpnIH4Ypzh0"
      },
      "source": [
        "### Selling the first plant (1 point)"
      ]
    },
    {
      "cell_type": "markdown",
      "metadata": {
        "id": "8l3c1GN14EDp"
      },
      "source": [
        "The management is also considering selling the first plant due to aging equipment and high workman's compensation costs for the state it is located in. They would like to know what this would do to their production capability. Specifically, they would like an example of a demand they could not meet with only plants 2 and 3, and also what effect having plant 4 has (recall it is identical to plant 3). They would also like an example of a demand that they could meet with just plants 2 and 3. Any general statements you could make here would be helpful."
      ]
    },
    {
      "cell_type": "markdown",
      "metadata": {
        "id": "qYz46wb2GTo7"
      },
      "source": [
        "Let the number of barrels used by factory $B$, $C$ and $D$ are $y$, $z$ and $w$ respectively.\n",
        "\n",
        "When considering only plants 2 and 3, and demand (5000, 8500, 10000) then we have\n",
        "\n",
        "$$4y + 4z = 5000$$\n",
        "\n",
        "$$14y + 5z = 8500$$\n",
        "\n",
        "$$5y + 12z = 10000$$"
      ]
    },
    {
      "cell_type": "code",
      "metadata": {
        "id": "Ru-prbsHGwH_",
        "colab": {
          "base_uri": "https://localhost:8080/"
        },
        "outputId": "d9745234-e947-4c07-d32c-a91f5947fbd7"
      },
      "source": [
        "# YOUR CODE HERE\n",
        "# We now have 4𝑦+4𝑧=5000; 14𝑦+5𝑧=8500; 5𝑦+12𝑧=10000\n",
        "# with 2 variables and 3 equations, we consider only two equations and try to see how this works out.\n",
        "\n",
        "#consider 4𝑦+4𝑧=5000; 14𝑦+5𝑧=8500;\n",
        "# Create the augmented matrix\n",
        "A = np.array([[4, 4], [14, 5]])\n",
        "# A = np.array([[20, 4, 4], [10, 14, 5], [0, 0, 0]])\n",
        "b = np.array([5000, 8500])\n",
        "\n",
        "int_xyz = np.linalg.solve(A, b).round().astype(int)\n",
        "# int_xyz = np.round(xyz).astype(int)\n",
        "print(\"x, y after rounding off: \", int_xyz)\n",
        "\n",
        "\n",
        "print(f\"The number of barrels of crude oil plant B should get is: {int_xyz[0]}\")\n",
        "print(f\"The number of barrels of crude oil plant C should get is: {int_xyz[1]}\")\n",
        "\n",
        "motoroil_output = 4*int_xyz[0] + 4*int_xyz[1]\n",
        "dieseloil_output = 14*int_xyz[0] + 5*int_xyz[1]\n",
        "gasoline_output = 5*int_xyz[0] + 12*int_xyz[1]\n",
        "print(f\"Motor oil production(in gallons) is: {motoroil_output}\")\n",
        "print(f\"Diesel oil production(in gallons) is: {dieseloil_output}\")\n",
        "print(f\"Gasoline production(in gallons) is: {gasoline_output}\")"
      ],
      "execution_count": 36,
      "outputs": [
        {
          "output_type": "stream",
          "name": "stdout",
          "text": [
            "x, y after rounding off:  [ 250 1000]\n",
            "The number of barrels of crude oil plant B should get is: 250\n",
            "The number of barrels of crude oil plant C should get is: 1000\n",
            "Motor oil production(in gallons) is: 5000\n",
            "Diesel oil production(in gallons) is: 8500\n",
            "Gasoline production(in gallons) is: 13250\n"
          ]
        }
      ]
    },
    {
      "cell_type": "markdown",
      "source": [
        "**Conclusion:**\n",
        "\n",
        "1) Motor oil and diesel oil demand is completely met.\n",
        "\n",
        "2) Gasoline production is overshot by 32.5%"
      ],
      "metadata": {
        "id": "sgaIHY4wVhDX"
      }
    },
    {
      "cell_type": "markdown",
      "metadata": {
        "id": "bLsK1-zNEP0T"
      },
      "source": [
        "Taking 4th plant into consideration.\n",
        "Let the number of barrels used by factory $B$, $C$ and $D$ are $y$, $z$ and $w$ respectively.\n",
        "\n",
        "Then for demand (5000, 8500, 10000) the system of linear equations will be\n",
        "\n",
        "$$4y + 4z + 4w = 5000$$\n",
        "\n",
        "$$14y + 5z + 5w = 8500$$\n",
        "\n",
        "$$5y + 12z + 12w = 10000$$\n",
        "\n",
        "Solve it using rref form."
      ]
    },
    {
      "cell_type": "code",
      "metadata": {
        "id": "5lqPcpJ9F9xx",
        "colab": {
          "base_uri": "https://localhost:8080/"
        },
        "outputId": "f1765057-f05f-4158-f337-c2207c88234e"
      },
      "source": [
        "# YOUR CODE HERE\n",
        "# Create the augmented matrix\n",
        "A = np.array([[4, 4, 4], [14, 5, 5], [5, 12, 12]])\n",
        "b = np.array([5000, 8500, 10000])\n",
        "\n",
        "print(b)\n",
        "\n",
        "# xyz = np.linalg.solve(A, b)\n",
        "int_xyz = np.linalg.solve(A, b).round().astype(int)\n",
        "# int_xyz = np.round(xyz).astype(int)\n",
        "print(\"x, y,z after rounding off: \", int_xyz)\n",
        "\n",
        "print(\"To meet the doubled demand of the products:\")\n",
        "print(f\"The number of barrels of crude oil plant B should get is: {int_xyz[0]}\")\n",
        "print(f\"The number of barrels of crude oil plant C should get is: {int_xyz[1]}\")\n",
        "print(f\"The number of barrels of crude oil plant D should get is: {int_xyz[2]}\")\n"
      ],
      "execution_count": 37,
      "outputs": [
        {
          "output_type": "stream",
          "name": "stdout",
          "text": [
            "[ 5000  8500 10000]\n",
            "x, y,z after rounding off:  [                 293 -1842381665742475520  1842381665742476288]\n",
            "To meet the doubled demand of the products:\n",
            "The number of barrels of crude oil plant B should get is: 293\n",
            "The number of barrels of crude oil plant C should get is: -1842381665742475520\n",
            "The number of barrels of crude oil plant D should get is: 1842381665742476288\n"
          ]
        }
      ]
    },
    {
      "cell_type": "markdown",
      "metadata": {
        "id": "u7SDjgFkP5fj"
      },
      "source": [
        "Now, changing demand to (6600, 5100, 3100) and solving the system of equation using rref form."
      ]
    },
    {
      "cell_type": "code",
      "metadata": {
        "id": "nwSpgbqAGlON"
      },
      "source": [
        "# YOUR CODE HERE"
      ],
      "execution_count": null,
      "outputs": []
    },
    {
      "cell_type": "markdown",
      "metadata": {
        "id": "fngUPMK_pzh1"
      },
      "source": [
        "### Set rates for Products (1 point)"
      ]
    },
    {
      "cell_type": "markdown",
      "metadata": {
        "id": "8Go0tQYtpzh1"
      },
      "source": [
        "Company wants to set the rates of motor oil, diesel oil, and gasoline. For this purpose they have few suggestions given as follows:\n",
        "\n",
        "* 100, 66, 102 Rupees per gallon,\n",
        "\n",
        "* 104, 64, 100 Rupees per gallon,\n",
        "\n",
        "* 102, 68, 98 Rupees per gallon, and\n",
        "\n",
        "* 96, 68, 100 Rupees per gallon\n",
        "\n",
        "for motor oil, diesel oil, and gasoline respectively.\n",
        "\n",
        "Using matrix multiplication, find the rates which result in maximum total price."
      ]
    },
    {
      "cell_type": "markdown",
      "metadata": {
        "id": "9yRue5zIpzh1"
      },
      "source": [
        "Let $M$ denote the matrix such that rows represents different plants (A, B and C), columns represents different products (motor oil, diesel oil and gasoline) and each value represents production of that product from one barrel of crude oil for that plant.\n",
        "\n",
        "$$M = \\begin{bmatrix}\n",
        "20 & 10 & 5 \\\\\n",
        "4 & 14 & 5  \\\\\n",
        " 4 & 5 & 12  \n",
        "\\end{bmatrix}$$\n",
        "\n",
        "Also, $R$ is a matrix having different rates as its columns.\n",
        "\n",
        "$$R = \\begin{bmatrix}\n",
        "100 & 104 & 102 & 96 \\\\\n",
        "66 & 64 & 68 & 68  \\\\\n",
        "102 & 100 & 98 & 100  \n",
        "\\end{bmatrix}$$"
      ]
    },
    {
      "cell_type": "code",
      "metadata": {
        "id": "Sz5Bef3npzh1"
      },
      "source": [
        "# YOUR CODE HERE"
      ],
      "execution_count": null,
      "outputs": []
    },
    {
      "cell_type": "markdown",
      "metadata": {
        "id": "cga8JrkApzh1"
      },
      "source": [
        "### Marginal Cost (1 point)"
      ]
    },
    {
      "cell_type": "markdown",
      "metadata": {
        "id": "8nN5V5NXpzh2"
      },
      "source": [
        "The total cost $C(x)$ in Rupees, associated with the production of $x$ gallons of gasoline is given by\n",
        "\n",
        "$$C(x) = 0.005 x^3 – 0.02 x^2 + 30x + 5000$$\n",
        "\n",
        "Find the marginal cost when $22$ gallons are produced, where, marginal cost means the instantaneous rate of change of total cost at any level of output."
      ]
    },
    {
      "cell_type": "code",
      "metadata": {
        "id": "rO-HMED3pzh2"
      },
      "source": [
        "# YOUR CODE HERE"
      ],
      "execution_count": null,
      "outputs": []
    },
    {
      "cell_type": "markdown",
      "metadata": {
        "id": "qOMlrDEhpzh2"
      },
      "source": [
        "### Marginal Revenue (1 point)"
      ]
    },
    {
      "cell_type": "markdown",
      "metadata": {
        "id": "bfS88lmWpzh2"
      },
      "source": [
        "The total revenue in Rupees received from the sale of $x$ gallons of a motor oil is given by $$R(x) = 3x^2 + 36x + 5.$$\n",
        "\n",
        "Find the marginal revenue, when $x = 28$, where, marginal revenue means the rate of change of total revenue with respect to the number of items sold at an instant."
      ]
    },
    {
      "cell_type": "code",
      "metadata": {
        "id": "rb0h6p49pzh2"
      },
      "source": [
        "# YOUR CODE HERE"
      ],
      "execution_count": null,
      "outputs": []
    },
    {
      "cell_type": "markdown",
      "metadata": {
        "id": "ZKb5VuM_pzh2"
      },
      "source": [
        "### Pouring crude oil in tank (1 point)"
      ]
    },
    {
      "cell_type": "markdown",
      "metadata": {
        "id": "TD9zv5jPpzh2"
      },
      "source": [
        "In a cylindrical tank of radius 10 meter, crude oil is being poured at the rate of 314 cubic meter per hour. Then find\n",
        "\n",
        "* the rate at which the height of crude oil is increasing in the tank, and\n",
        "* the height of crude oil in tank after 2 hours."
      ]
    },
    {
      "cell_type": "code",
      "metadata": {
        "id": "g6ntcdNypzh2"
      },
      "source": [
        "# YOUR CODE HERE"
      ],
      "execution_count": null,
      "outputs": []
    }
  ]
}